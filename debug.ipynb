{
 "cells": [
  {
   "cell_type": "code",
   "execution_count": 1,
   "metadata": {},
   "outputs": [],
   "source": [
    "from __init__ import Controller\n",
    "import os, time"
   ]
  },
  {
   "cell_type": "code",
   "execution_count": 2,
   "metadata": {},
   "outputs": [
    {
     "name": "stdout",
     "output_type": "stream",
     "text": [
      "Untitled - Notepad\n",
      "1640416\n",
      "None\n",
      "(386, 293)\n",
      "(800, 10)\n"
     ]
    }
   ],
   "source": [
    "os.system(\"start notepad\")\n",
    "time.sleep(5)\n",
    "window = Controller(\"notepad\")\n",
    "print(window.title)\n",
    "print(window.hwnd)\n",
    "print(window.pid)\n",
    "print(window.size)\n",
    "print(window.position)"
   ]
  },
  {
   "cell_type": "code",
   "execution_count": 3,
   "metadata": {},
   "outputs": [
    {
     "data": {
      "text/plain": [
       "['title',\n",
       " 'hwnd',\n",
       " 'pid',\n",
       " 'isvisible',\n",
       " 'position',\n",
       " 'size',\n",
       " 'shortcut',\n",
       " 'ontop',\n",
       " 'focus',\n",
       " 'hide',\n",
       " 'show',\n",
       " 'move',\n",
       " 'resize',\n",
       " 'resize_and_move',\n",
       " 'move_to_quadrant',\n",
       " 'split_vertical',\n",
       " 'split_horizontal',\n",
       " 'center',\n",
       " 'headsup',\n",
       " 'minimize',\n",
       " 'maximize',\n",
       " 'refresh',\n",
       " 'prev',\n",
       " 'next',\n",
       " 'play',\n",
       " 'close']"
      ]
     },
     "execution_count": 3,
     "metadata": {},
     "output_type": "execute_result"
    }
   ],
   "source": [
    "window.__funcs__()"
   ]
  },
  {
   "cell_type": "code",
   "execution_count": null,
   "metadata": {},
   "outputs": [],
   "source": []
  },
  {
   "cell_type": "code",
   "execution_count": null,
   "metadata": {},
   "outputs": [],
   "source": []
  }
 ],
 "metadata": {
  "kernelspec": {
   "display_name": "Python 3.9.7 ('base')",
   "language": "python",
   "name": "python3"
  },
  "language_info": {
   "codemirror_mode": {
    "name": "ipython",
    "version": 3
   },
   "file_extension": ".py",
   "mimetype": "text/x-python",
   "name": "python",
   "nbconvert_exporter": "python",
   "pygments_lexer": "ipython3",
   "version": "3.9.7"
  },
  "orig_nbformat": 4,
  "vscode": {
   "interpreter": {
    "hash": "3c317d2743907d199fa48843b4e756a1c9dea0cc93a4d89e340a74423b53c57f"
   }
  }
 },
 "nbformat": 4,
 "nbformat_minor": 2
}
